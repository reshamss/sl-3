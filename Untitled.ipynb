{
 "cells": [
  {
   "cell_type": "code",
   "execution_count": null,
   "id": "78ae9ee8-ff68-4301-b388-241fff11fb56",
   "metadata": {},
   "outputs": [],
   "source": [
    "import nltk\n",
    "from nltk import sent_tokenize, word_tokenize, pos_tag\n",
    "from nltk.corpus import stopwords\n",
    "from nltk.stem import PorterStemmer, WordNetLemmatizer\n",
    "\n",
    "# Uncomment below lines if running for the first time\n",
    "nltk.download('punkt')\n",
    "nltk.download('wordnet')\n",
    "nltk.download('averaged_perceptron_tagger')\n",
    "nltk.download('stopwords')\n",
    "\n",
    "# Sample text\n",
    "text = \"Real Madrid is set to win the UCL for the season. Benzema might win Ballon d'Or. Salah might be the runner-up.\"\n",
    "\n",
    "# Sentence Tokenization\n",
    "tokens_sents = sent_tokenize(text)\n",
    "print(\"Sentence Tokenization:\")\n",
    "print(tokens_sents)\n",
    "\n",
    "# Word Tokenization\n",
    "tokens_words = word_tokenize(text)\n",
    "print(\"\\nWord Tokenization:\")\n",
    "print(tokens_words)\n",
    "\n",
    "# Stemming\n",
    "stemmer = PorterStemmer()\n",
    "stem = [stemmer.stem(word) for word in tokens_words]\n",
    "print(\"\\nStemmed Words:\")\n",
    "print(stem)\n",
    "\n",
    "# Lemmatization\n",
    "lemmatizer = WordNetLemmatizer()\n",
    "leme = [lemmatizer.lemmatize(word) for word in stem]\n",
    "print(\"\\nLemmatized Words:\")\n",
    "print(leme)\n",
    "\n",
    "# POS Tagging\n",
    "print(\"\\nParts of Speech Tagging:\")\n",
    "print(pos_tag(leme))\n",
    "\n",
    "# Stopword Removal\n",
    "sw_nltk = stopwords.words('english')\n",
    "filtered_words = [word for word in tokens_words if word.lower() not in sw_nltk]\n",
    "new_text = \" \".join(filtered_words)\n",
    "print(\"\\nWords after Stopword Removal:\")\n",
    "print(new_text)\n"
   ]
  },
  {
   "cell_type": "code",
   "execution_count": null,
   "id": "0e124b5a-9a17-4ada-97a9-0478c316d3f5",
   "metadata": {},
   "outputs": [],
   "source": []
  }
 ],
 "metadata": {
  "kernelspec": {
   "display_name": "Python 3 (ipykernel)",
   "language": "python",
   "name": "python3"
  },
  "language_info": {
   "codemirror_mode": {
    "name": "ipython",
    "version": 3
   },
   "file_extension": ".py",
   "mimetype": "text/x-python",
   "name": "python",
   "nbconvert_exporter": "python",
   "pygments_lexer": "ipython3",
   "version": "3.12.7"
  }
 },
 "nbformat": 4,
 "nbformat_minor": 5
}
